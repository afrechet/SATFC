{
 "cells": [
  {
   "cell_type": "code",
   "execution_count": 1,
   "metadata": {},
   "outputs": [
    {
     "name": "stdout",
     "output_type": "stream",
     "text": [
      "Populating the interactive namespace from numpy and matplotlib\n"
     ]
    }
   ],
   "source": [
    "import sys\n",
    "%pylab inline\n",
    "import os\n",
    "import pandas as pd\n",
    "\n",
    "import multiprocessing\n",
    "import re\n",
    "import json\n",
    "from statsmodels.distributions.empirical_distribution import ECDF\n",
    "import seaborn as sns\n",
    "import locale\n",
    "from locale import atof\n"
   ]
  },
  {
   "cell_type": "code",
   "execution_count": 2,
   "metadata": {},
   "outputs": [],
   "source": [
    "INFINITY = 1e10 # No station value should realistically be higher than this"
   ]
  },
  {
   "cell_type": "code",
   "execution_count": 3,
   "metadata": {},
   "outputs": [],
   "source": [
    "def check_unique(frame):\n",
    "    if frame['facility_id'].nunique() != len(frame):\n",
    "        print(frame['facility_id'].value_counts())\n",
    "        raise ValueError(\"Duplicate Fac ID!\")\n",
    "    if (frame['upper_bound_value'] == frame['lower_bound_value']).any():\n",
    "        display(frame[frame['upper_bound_value'] == frame['lower_bound_value']])\n",
    "        raise ValueError(\"Bounds aren't different!\")\n",
    "    if (frame['upper_bound_value'] < frame['lower_bound_value']).any():\n",
    "        display(frame[frame['upper_bound_value'] < frame['lower_bound_value']])\n",
    "        raise ValueError(\"Bounds are wrong!\")\n",
    "    if (frame['upper_bound_value'] < 0).any() or (frame['lower_bound_value'] < 0).any():\n",
    "        raise ValueError(\"Negative bounds! are wrong!\")"
   ]
  },
  {
   "cell_type": "code",
   "execution_count": 4,
   "metadata": {},
   "outputs": [],
   "source": [
    "COLUMNS = ['facility_id', 'lower_bound_value', 'upper_bound_value']"
   ]
  },
  {
   "cell_type": "code",
   "execution_count": 7,
   "metadata": {},
   "outputs": [],
   "source": [
    "## Data parsing\n",
    "stations_df = pd.read_csv('../simulator/src/dist/simulator_data/actual_data/reverse-stations.csv')\n",
    "\n",
    "df = pd.read_csv('../simulator/src/dist/simulator_data/actual_data/reverse-bids.csv')\n",
    "df = df.drop(['auction_id', 'random_number', 'frn'], axis=1)\n",
    "\n",
    "# 77 + 59 stations are LVHF HVHF from the very beginning, so we cannot infer anything about their home band values from bids. 49 of these stations refused off-air entirely, so we can infer nothing. \n",
    "\n",
    "# Restrict to rounds that at least begin with that station holding off-air \n",
    "df = df[df['round_held_option'] == 'Go off-air']\n",
    "\n",
    "# Add in a fake round 0 with opening prices\n",
    "df = pd.concat((df.copy(), pd.DataFrame({'stage': [1] * len(stations_df), 'round': [0] * len(stations_df), 'facility_id': stations_df['facility_id'], 'pre_auction_band': stations_df['pre_auction_band'], 'bid_option_price': stations_df['off_air_opening_price']})), sort=True)\n",
    "# Useful for finding the pre-drop-out-round since you don't have to worry about stage/round being a double index\n",
    "df['total_round_order'] = df[['stage', 'round']].apply(tuple, axis=1).rank(method='dense',ascending=True).astype(int)\n",
    "df = df.merge(stations_df[['facility_id','volume']])\n",
    "\n",
    "# Get rid of all of the VHF stations\n",
    "df = df[df['pre_auction_band'] == 'UHF']\n",
    "\n",
    "winners_df = pd.read_csv('../simulator/src/dist/simulator_data/actual_data/reverse-winning_bids.csv')\n",
    "\n",
    "summary_df = pd.read_csv('../simulator/src/dist/simulator_data/actual_data/reverse-auction_summary.csv')\n",
    "summary_df = summary_df[['stage', 'round', 'base_clock_price']]\n",
    "summary_df['decrement'] = summary_df['base_clock_price'].diff() \n",
    "summary_df.loc[(summary_df['round'] == 1) & (summary_df['stage'] == 1), 'decrement'] = -45\n",
    "# Add a fake stage 1 round 0 with open\n",
    "summary_df = pd.concat((pd.DataFrame({'stage': [1], 'round': [0], 'base_clock_price': [900], 'decrement': [0]}),summary_df))\n",
    "summary_df['total_round_order'] = summary_df[['stage', 'round']].apply(tuple, axis=1).rank(method='dense',ascending=True).astype(int)\n",
    "\n",
    "df = df.merge(summary_df[['total_round_order', 'base_clock_price']], left_on='total_round_order', right_on='total_round_order')\n",
    "\n",
    "ZERO_BASE_CLOCK_ROUNDS = summary_df.loc[summary_df['base_clock_price'] == 0][['stage','round']].to_records(index=False).tolist()"
   ]
  },
  {
   "cell_type": "code",
   "execution_count": 8,
   "metadata": {},
   "outputs": [],
   "source": [
    "prices_df = pd.read_csv('/Users/newmanne/research/interference-data/opening_prices.csv')\n",
    "prices_df = prices_df.rename(columns={'Facility ID': 'facility_id', 'Interference -Free Population': 'population', 'Go Off-Air': 'p_open', 'DMA1':'dma'})\n",
    "prices_df = prices_df[prices_df['p_open'] != 'Not Needed']\n",
    "locale.setlocale(locale.LC_NUMERIC, '')\n",
    "prices_df['p_open'] = prices_df['p_open'].str.strip('$').str.strip().apply(atof)\n",
    "prices_df['population'] = pd.to_numeric(prices_df['population'].apply(atof))\n",
    "prices_df['pre_auction_band'] = prices_df['Channel'].apply(lambda x: 'UHF' if x >= 14 else 'HVHF' if x >= 7 else 'LVHF')"
   ]
  },
  {
   "cell_type": "code",
   "execution_count": 9,
   "metadata": {},
   "outputs": [],
   "source": [
    "def uhf_price(x):\n",
    "    return x['volume'] * x['base_clock_price']"
   ]
  },
  {
   "cell_type": "code",
   "execution_count": 10,
   "metadata": {},
   "outputs": [],
   "source": [
    "# Keep in mind that some stations did not start off-air. However, we do know whether they agreed to possibly being put off-air. \n",
    "participation_bounds = stations_df.query('off_air_option == \"Y\"').copy()\n",
    "participation_bounds['upper_bound_value'] = participation_bounds['off_air_opening_price']\n",
    "participation_bounds['lower_bound_value'] = 0\n",
    "check_unique(participation_bounds)\n",
    "\n",
    "# NOT ticking the box that you would be OK participating in the auction at off-air was a value statement \n",
    "not_participation_bounds = stations_df.query('off_air_option == \"N\"').copy()\n",
    "not_participation_bounds['lower_bound_value'] = not_participation_bounds['off_air_opening_price']\n",
    "not_participation_bounds['upper_bound_value'] = INFINITY\n",
    "check_unique(not_participation_bounds)\n"
   ]
  },
  {
   "cell_type": "code",
   "execution_count": 11,
   "metadata": {},
   "outputs": [],
   "source": [
    "# You didn't participate at all. That must be because the opening price offer for off-air was no good.\n",
    "price_bounds = prices_df[['facility_id', 'p_open']].copy()\n",
    "price_bounds = price_bounds[~pd.isnull(price_bounds['p_open'])]\n",
    "price_bounds = price_bounds[~price_bounds['facility_id'].isin(stations_df['facility_id'].unique())]\n",
    "price_bounds = price_bounds.rename(columns={'p_open': 'lower_bound_value'})\n",
    "price_bounds['upper_bound_value'] = INFINITY\n",
    "check_unique(price_bounds)\n"
   ]
  },
  {
   "cell_type": "code",
   "execution_count": 12,
   "metadata": {},
   "outputs": [],
   "source": [
    "# # Any time you acccept an offer for off-air is a valid upper bound, fallback or otherwise\n",
    "clean_bounds = df[(df['bid_option'] == 'Go off-air') | ((df['bid_option'].str.startswith('Move')) & (df['fallback_option'] == 'Go off-air'))]\n",
    "clean_bounds = clean_bounds.sort_values('total_round_order').drop_duplicates(subset=['facility_id'], keep='last')\n",
    "clean_bounds['upper_bound_value'] = clean_bounds[['bid_option_price', 'fallback_option_price']].max(axis=1)\n",
    "\n",
    "clean_bounds['lower_bound_value'] = 0\n",
    "check_unique(clean_bounds)"
   ]
  },
  {
   "cell_type": "code",
   "execution_count": 13,
   "metadata": {},
   "outputs": [],
   "source": [
    "# When a station wants to exit the auction, you know their value is higher than the offered price\n",
    "# Unfortunately not all prices are listed, but so we don't know what price they faced at the time. But the benchmark overprice is defined as \"The per volume difference between the station’s current price and its new price offer for its currently held option\". As long as the currently held option remains off-air, benchmark overprice should help us discover the new price!\n",
    "drop_out_rounds = df[(df['bid_option'] == 'Drop out of bidding') | (df['fallback_option'] == 'Drop out of bidding')].copy()\n",
    "drop_out_rounds = drop_out_rounds.sort_values('total_round_order').drop_duplicates(subset=['facility_id'], keep='last')\n",
    "drop_out_rounds['upper_bound_value'] = INFINITY\n",
    "drop_out_rounds['lower_bound_value'] = drop_out_rounds.apply(uhf_price, axis=1)          \n",
    "# Zero base clock rounds occassionally don't have benchmark overprice values for some reason... Either way, in a zero base clock round all of your prices are going to be zero. No matter what!\n",
    "check_unique(drop_out_rounds)"
   ]
  },
  {
   "cell_type": "code",
   "execution_count": 14,
   "metadata": {},
   "outputs": [],
   "source": [
    "# If you win AND are off-the-air, we learn that your value for your home band is less than what they pay you\n",
    "w = winners_df.query('winning_bid_option == \"Go off-air\"')[['facility_id', 'compensation']].copy().rename(columns={'compensation':'upper_bound_value'})\n",
    "w['lower_bound_value'] = 0\n",
    "# TODO: Schurz Communications, Inc. seems to have won for $0.... What the hell? Let's just remove that since it will mess everything up\n",
    "w = w[w['facility_id'] != 35630]\n",
    "check_unique(w)"
   ]
  },
  {
   "cell_type": "code",
   "execution_count": 15,
   "metadata": {},
   "outputs": [
    {
     "name": "stdout",
     "output_type": "stream",
     "text": [
      "1877\n"
     ]
    }
   ],
   "source": [
    "tmp = pd.concat((w[COLUMNS], drop_out_rounds[COLUMNS], clean_bounds[COLUMNS], participation_bounds[COLUMNS], not_participation_bounds[COLUMNS], price_bounds[COLUMNS]), sort=True)\n",
    "\n",
    "# You want the highest lower bound and the lowest upper bound\n",
    "lbs = tmp.groupby('facility_id')['lower_bound_value'].max()\n",
    "ubs = tmp.groupby('facility_id')['upper_bound_value'].min()\n",
    "records = []\n",
    "for f in tmp['facility_id'].unique():\n",
    "    records.append({\n",
    "        'facility_id': f,\n",
    "        'lower_bound_value': lbs[f],\n",
    "        'upper_bound_value': ubs[f]\n",
    "    })\n",
    "tmp = pd.DataFrame.from_records(records)\n",
    "check_unique(tmp)\n",
    "\n",
    "print(tmp['facility_id'].nunique())"
   ]
  },
  {
   "cell_type": "code",
   "execution_count": 16,
   "metadata": {},
   "outputs": [],
   "source": [
    "data_df = tmp.merge(prices_df[['facility_id', 'population', 'p_open', 'dma']], how='outer')\n",
    "data_df['participate'] = data_df['facility_id'].apply(lambda x: x in stations_df['facility_id'].unique())\n",
    "data_df = data_df.merge(prices_df[['facility_id','pre_auction_band']])\n",
    "data_df = data_df[data_df['pre_auction_band'] == 'UHF']\n",
    "check_unique(data_df)"
   ]
  },
  {
   "cell_type": "code",
   "execution_count": 17,
   "metadata": {},
   "outputs": [],
   "source": [
    "data_df.loc[data_df['pre_auction_band'] == 'UHF'].to_csv('UHF_Data_v3.csv', index=False)"
   ]
  },
  {
   "cell_type": "code",
   "execution_count": null,
   "metadata": {},
   "outputs": [],
   "source": []
  }
 ],
 "metadata": {
  "kernelspec": {
   "display_name": "Python 3",
   "language": "python",
   "name": "python3"
  },
  "language_info": {
   "codemirror_mode": {
    "name": "ipython",
    "version": 3
   },
   "file_extension": ".py",
   "mimetype": "text/x-python",
   "name": "python",
   "nbconvert_exporter": "python",
   "pygments_lexer": "ipython3",
   "version": "3.7.3"
  }
 },
 "nbformat": 4,
 "nbformat_minor": 2
}
